{
 "cells": [
  {
   "cell_type": "markdown",
   "id": "a17c0683",
   "metadata": {
    "id": "a17c0683"
   },
   "source": [
    "# Goal\n",
    "\n",
    "Datasets:\n",
    "1. CIFAR-10\n",
    "2. MNIST\n",
    "\n",
    "Models:\n",
    "1. Convolutional Features\n",
    "2. ReLU Features\n",
    "3. Fourier Features\n",
    "\n",
    "Each model transforms the data to a feature matrix $[M_{TM} | M_{TU}]$ where $M_{TM}$ is the data matrix for the training set and $M_{TU}$ are the basis functions that we have not yet modeled. We will compute the best coefficients, $\\tilde{c}$ of basis functions to model the labels on the modeled training set and the best coefficients, $c$, of all basis functions to model the labels on the whole training set. We will then compute the error $c_{err} = \\tilde{c}-c^*$ where $c^*$ is the truncated version of $c$ to match the size of $\\tilde{c}$. We initialize $c$ with the least-squares coefficients learned from the whole training set. Then we compute $\\tilde{c}$ by solving the least-squares problem on the sampled training set.\n",
    "\n",
    "For each dataset, we will:\n",
    "- Sample the features uniformly at random vs by leverage scores.\n",
    "- Plot $||A||_2$, $||M_{TM}^+||_2$, and $||\\tilde{c}-c^*||_2$ for the sampled features as a function of the number of sampled points.\n",
    "\n",
    "We expect to see that leverage score sampling leads to a smaller error $||\\tilde{c}-c^*||_2$ for the same number of sampled points."
   ]
  },
  {
   "cell_type": "markdown",
   "id": "c29ab21d",
   "metadata": {
    "id": "c29ab21d"
   },
   "source": [
    "\n",
    "## MNIST\n",
    "\n",
    "The MNIST dataset consists of 70,000 images of handwritten digits (0-9) in grayscale with a resolution of 28x28 pixels. This gives us a $70,000 \\times 784$ data matrix.\n",
    "- A Convolutional Neural network will transform the data to a $70,000 \\times 200$ matrix (by removing the last layer).\n",
    "- A Random ReLU fully-connected network ($y({\\textbf{t}}) = \\sum_{k=1}^{200} w_k \\sigma(\\left<\\textbf{t}, {\\textbf{v}}_k\\right>)$ with $\\sigma(x) = \\max(0,x)$ and $\\textbf{v}_k$ being randomly initialized weights and $w_k$ being the learned coefficients) will transform the data to a $70,000 \\times 200$ matrix.\n",
    "- A Fourier fully-connected network ($y({\\textbf{t}}) = \\mathscr{R}(\\sum_{k=1}^{200} w_k \\exp(i\\pi\\left<\\textbf{t}, {\\textbf{v}}_k\\right>)) = \\sum_{k=1}^{200} w_k \\cos(\\pi\\left<\\textbf{t}, {\\textbf{v}}_k\\right>) = $ with $\\textbf{v}_k$ being randomly initialized weights and $w_k$ being the learned coefficients) will transform the data to a $70,000 \\times 200$ matrix."
   ]
  },
  {
   "cell_type": "code",
   "execution_count": null,
   "id": "0de55619",
   "metadata": {
    "colab": {
     "base_uri": "https://localhost:8080/"
    },
    "id": "0de55619",
    "outputId": "af635215-8a78-44c8-b8c2-19618545b3b9"
   },
   "outputs": [
    {
     "name": "stdout",
     "output_type": "stream",
     "text": [
      "torch.Size([60000, 28, 28]) torch.Size([60000])\n",
      "using cpu\n",
      "tensor(0.0039) tensor(0.)\n"
     ]
    }
   ],
   "source": [
    "import numpy as np\n",
    "import torch\n",
    "\n",
    "from torchvision.datasets import MNIST\n",
    "\n",
    "mnist_digits = MNIST(root=\"./data\", train=True, download=True).data\n",
    "mnist_labels = MNIST(root=\"./data\", train=True, download=True).targets\n",
    "\n",
    "print(mnist_digits.shape, mnist_labels.shape)\n",
    "\n",
    "DEVICE = torch.device(\"cuda\" if torch.cuda.is_available() else \"cpu\")\n",
    "print(\"using\", DEVICE)\n",
    "\n",
    "mnist_X = mnist_digits.float().to(DEVICE).reshape(-1, 1, 28, 28) / 255.0\n",
    "print(mnist_X.max(), mnist_X.min())\n",
    "mnist_y = mnist_labels.to(DEVICE)"
   ]
  },
  {
   "cell_type": "code",
   "execution_count": 2,
   "id": "09d0781f",
   "metadata": {
    "colab": {
     "base_uri": "https://localhost:8080/"
    },
    "id": "09d0781f",
    "outputId": "27c0bbf6-0d8c-46c1-e3c5-87722cc018eb"
   },
   "outputs": [
    {
     "name": "stdout",
     "output_type": "stream",
     "text": [
      "mnist rff on cpu\n",
      "torch.Size([60000, 200])\n",
      "mnist relu on cpu\n",
      "torch.Size([60000, 200])\n"
     ]
    }
   ],
   "source": [
    "# Random Fourier Features\n",
    "def rff_features(X, features=200) -> torch.Tensor:\n",
    "    N, *_ = X.shape\n",
    "    X = X.reshape(N, -1)\n",
    "\n",
    "    W = torch.randn(X.shape[1], features, device=X.device)\n",
    "\n",
    "    return torch.cos(torch.pi * X @ W) / np.sqrt(features)  # Normalize\n",
    "\n",
    "\n",
    "mnist_rff_features = rff_features(mnist_X, features=200)\n",
    "\n",
    "print(\"mnist rff on\", mnist_rff_features.device)\n",
    "print(mnist_rff_features.shape)\n",
    "\n",
    "\n",
    "# Random ReLU Features\n",
    "def relu_features(X, features=200) -> torch.Tensor:\n",
    "    N, *_ = X.shape\n",
    "    X = X.reshape(N, -1)\n",
    "    W = torch.randn(X.shape[1], features, device=X.device)\n",
    "    return torch.relu(X @ W) / np.sqrt(features)\n",
    "\n",
    "\n",
    "mnist_relu_features = relu_features(mnist_X, features=200)\n",
    "\n",
    "print(\"mnist relu on\", mnist_relu_features.device)\n",
    "print(mnist_relu_features.shape)"
   ]
  },
  {
   "cell_type": "code",
   "execution_count": 5,
   "id": "e49d7db0",
   "metadata": {
    "colab": {
     "base_uri": "https://localhost:8080/"
    },
    "id": "e49d7db0",
    "outputId": "e5173c95-5617-4d3d-8cfa-5e9d75919ea2"
   },
   "outputs": [
    {
     "name": "stdout",
     "output_type": "stream",
     "text": [
      "Test accuracy: 0.9841\n"
     ]
    }
   ],
   "source": [
    "# Verify CNN accuracy on MNIST\n",
    "\n",
    "from models.mnist_cnn import MnistConvNet, BASIS_FUNCTIONS\n",
    "from torch.utils.data import TensorDataset\n",
    "\n",
    "network = MnistConvNet()\n",
    "network.load_state_dict(torch.load(\"models/mnist_cnn.pth\", map_location=DEVICE))\n",
    "network.eval()\n",
    "\n",
    "\n",
    "def verify_mnist_cnn(model: MnistConvNet, device):\n",
    "    model.to(device)\n",
    "    indices = torch.randperm(mnist_X.shape[0], device=device)\n",
    "    correct = 0\n",
    "    total = 0\n",
    "    test_loader = torch.utils.data.DataLoader(\n",
    "        TensorDataset(mnist_X[indices], mnist_y[indices]),\n",
    "    )\n",
    "    with torch.no_grad():\n",
    "        for xb, yb in test_loader:\n",
    "            xb, yb = xb.to(device), yb.to(device)\n",
    "            preds: torch.Tensor = model(xb)\n",
    "            correct += (preds.argmax(dim=1) == yb).sum().item()\n",
    "            total += yb.size(0)\n",
    "    print(f\"Test accuracy: {correct / total:.4f}\")\n",
    "\n",
    "\n",
    "verify_mnist_cnn(network, DEVICE)"
   ]
  },
  {
   "cell_type": "markdown",
   "id": "7ea998e6",
   "metadata": {
    "id": "7ea998e6"
   },
   "source": [
    "We get an accuracy on the whole dataset of `0.9846`. Pretty good. Now we can embed the data using the convolutional layers of the network and use that as our feature matrix for sampling."
   ]
  },
  {
   "cell_type": "code",
   "execution_count": 36,
   "id": "874f8441",
   "metadata": {
    "colab": {
     "base_uri": "https://localhost:8080/"
    },
    "id": "874f8441",
    "outputId": "b19fca77-47a5-4356-f99b-7a2a52e161e6"
   },
   "outputs": [
    {
     "name": "stdout",
     "output_type": "stream",
     "text": [
      "mnist cnn on cpu\n"
     ]
    },
    {
     "data": {
      "text/plain": [
       "torch.Size([70000, 200])"
      ]
     },
     "execution_count": 36,
     "metadata": {},
     "output_type": "execute_result"
    }
   ],
   "source": [
    "# Embed the data using the convolutional layers of the network\n",
    "mnist_cnn_embedding = torch.tensor(np.zeros((mnist_X.shape[0], BASIS_FUNCTIONS))).to(\n",
    "    DEVICE\n",
    ")\n",
    "print(\"mnist cnn on\", mnist_cnn_embedding.device)\n",
    "\n",
    "\n",
    "with torch.no_grad():\n",
    "    for batch_start in range(0, mnist_X.shape[0], 256):\n",
    "        batch_end = min(batch_start + 256, mnist_X.shape[0])\n",
    "        batch = mnist_X[batch_start:batch_end].to(DEVICE)\n",
    "        embeddings = network.embed(batch)\n",
    "        mnist_cnn_embedding[batch_start:batch_end] = embeddings\n",
    "\n",
    "mnist_cnn_embedding.shape"
   ]
  },
  {
   "cell_type": "code",
   "execution_count": 37,
   "id": "99d91274",
   "metadata": {
    "id": "99d91274"
   },
   "outputs": [],
   "source": [
    "from matplotlib import pyplot as plt\n",
    "\n",
    "\n",
    "def parameter_error(\n",
    "    data: torch.Tensor,\n",
    "    labels: torch.Tensor,\n",
    "    c_true: torch.Tensor,\n",
    "    indices: torch.Tensor,\n",
    "    regularize: float = 1e-6,\n",
    "):\n",
    "    if torch.linalg.matrix_rank(data) < data.shape[1]:\n",
    "        # Do Tikhonov/Ridge regularization\n",
    "        c_computed = torch.linalg.lstsq(\n",
    "            data[indices, :].double().T @ data[indices, :].double()\n",
    "            + regularize * torch.eye(data.shape[1], device=data.device),\n",
    "            data[indices, :].double().T @ labels[indices, :].double(),\n",
    "        ).solution\n",
    "    else:\n",
    "        c_computed = torch.linalg.lstsq(\n",
    "            data[indices, :].double(), labels[indices, :].double()\n",
    "        ).solution\n",
    "    return (c_true.double() - c_computed).norm() / c_true.double().norm()\n",
    "\n",
    "\n",
    "def aliasing_op_norm(data: torch.Tensor, indices: torch.Tensor):\n",
    "    return torch.linalg.norm(\n",
    "        torch.linalg.pinv(data[indices, :]) @ data[indices, :], ord=\"fro\"\n",
    "    )\n",
    "\n",
    "\n",
    "def norm_M_pinv(data: torch.Tensor, indices: torch.Tensor):\n",
    "    return torch.linalg.norm(torch.linalg.pinv(data[indices, :]), ord=\"fro\")\n",
    "\n",
    "\n",
    "def simulation(\n",
    "    M: torch.Tensor,\n",
    "    labels: torch.Tensor,\n",
    "    sample_points: int = 5000,\n",
    "    sample_point_step: int = 100,\n",
    "    trials: int = 10,\n",
    "    regularize: float = 1e-6,\n",
    "):\n",
    "    device = M.device\n",
    "\n",
    "    if torch.linalg.matrix_rank(M) < M.shape[1]:\n",
    "        print(\n",
    "            f\"data is ill-conditioned {torch.linalg.matrix_rank(M)=} < {M.shape[1]=}, using regularization constant\",\n",
    "            regularize,\n",
    "        )\n",
    "        # Do Tikhonov/Ridge regularization\n",
    "        c_true = torch.linalg.lstsq(\n",
    "            M.double().T @ M.double()\n",
    "            + regularize * torch.eye(M.shape[1], device=M.device),\n",
    "            M.double().T @ labels.double(),\n",
    "        ).solution\n",
    "    else:\n",
    "        c_true = torch.linalg.lstsq(M.double(), labels.double()).solution\n",
    "    x_axis = range(sample_point_step, sample_points, sample_point_step)\n",
    "\n",
    "    data = {\n",
    "        metric: {method: [] for method in [\"random\", \"leverage\", \"random_leverage\"]}\n",
    "        for metric in [\"parameter_error\", \"aliasing_error\", \"norm_M_pinv\"]\n",
    "    }\n",
    "\n",
    "    for n in x_axis:\n",
    "        print(f\"  Sampling {n} points...\")\n",
    "        total_p_err_random, total_err_random, total_M_pinv_random = (\n",
    "            torch.tensor(0.0, device=DEVICE),\n",
    "            torch.tensor(0.0, device=DEVICE),\n",
    "            torch.tensor(0.0, device=DEVICE),\n",
    "        )\n",
    "        total_p_err_levg, total_err_levg, total_M_pinv_levg = (\n",
    "            torch.tensor(0.0, device=DEVICE),\n",
    "            torch.tensor(0.0, device=DEVICE),\n",
    "            torch.tensor(0.0, device=DEVICE),\n",
    "        )\n",
    "        total_p_err_rand_levg, total_err_rand_levg, total_M_pinv_rand_levg = (\n",
    "            torch.tensor(0.0, device=DEVICE),\n",
    "            torch.tensor(0.0, device=DEVICE),\n",
    "            torch.tensor(0.0, device=DEVICE),\n",
    "        )\n",
    "\n",
    "        for _ in range(trials):\n",
    "            leverage_scores = (\n",
    "                torch.linalg.norm(torch.linalg.qr(M, mode=\"reduced\").Q, dim=1) ** 2\n",
    "            )\n",
    "\n",
    "            random_indices = torch.randperm(M.shape[0], device=device)[:n]\n",
    "            top_leverage_indices = torch.topk(leverage_scores, n, largest=True).indices\n",
    "            random_leverage_indices = torch.multinomial(\n",
    "                leverage_scores, n, replacement=True\n",
    "            )\n",
    "\n",
    "            for indices, (p_err_storage, aliasing_err_storage, M_pinv_norm_storage) in [\n",
    "                (\n",
    "                    random_indices,\n",
    "                    (total_p_err_random, total_err_random, total_M_pinv_random),\n",
    "                ),\n",
    "                (\n",
    "                    top_leverage_indices,\n",
    "                    (total_p_err_levg, total_err_levg, total_M_pinv_levg),\n",
    "                ),\n",
    "                (\n",
    "                    random_leverage_indices,\n",
    "                    (\n",
    "                        total_p_err_rand_levg,\n",
    "                        total_err_rand_levg,\n",
    "                        total_M_pinv_rand_levg,\n",
    "                    ),\n",
    "                ),\n",
    "            ]:\n",
    "                p_err_storage += parameter_error(\n",
    "                    M, labels, c_true, indices, regularize=regularize\n",
    "                )\n",
    "                aliasing_err_storage += aliasing_op_norm(M, indices)\n",
    "                M_pinv_norm_storage += norm_M_pinv(M, indices)\n",
    "\n",
    "        data[\"parameter_error\"][\"random\"].append(total_p_err_random / trials)\n",
    "        data[\"aliasing_error\"][\"random\"].append(total_err_random / trials)\n",
    "        data[\"norm_M_pinv\"][\"random\"].append(total_M_pinv_random / trials)\n",
    "        data[\"parameter_error\"][\"leverage\"].append(total_p_err_levg / trials)\n",
    "        data[\"aliasing_error\"][\"leverage\"].append(total_err_levg / trials)\n",
    "        data[\"norm_M_pinv\"][\"leverage\"].append(total_M_pinv_levg / trials)\n",
    "        data[\"parameter_error\"][\"random_leverage\"].append(\n",
    "            total_p_err_rand_levg / trials\n",
    "        )\n",
    "        data[\"aliasing_error\"][\"random_leverage\"].append(total_err_rand_levg / trials)\n",
    "        data[\"norm_M_pinv\"][\"random_leverage\"].append(total_M_pinv_rand_levg / trials)\n",
    "\n",
    "    return x_axis, data"
   ]
  },
  {
   "cell_type": "code",
   "execution_count": null,
   "id": "2d86a6eb",
   "metadata": {
    "colab": {
     "base_uri": "https://localhost:8080/"
    },
    "id": "2d86a6eb",
    "outputId": "bbd2d564-124c-486d-c556-cd0500bdb67e"
   },
   "outputs": [
    {
     "name": "stdout",
     "output_type": "stream",
     "text": [
      "Simulating CNN features...\n",
      "-----------------------\n",
      "data is ill-conditioned torch.linalg.matrix_rank(M)=tensor(43) < M.shape[1]=200, using regularization constant 1e-10\n",
      "  Sampling 1000 points...\n"
     ]
    },
    {
     "ename": "KeyboardInterrupt",
     "evalue": "",
     "output_type": "error",
     "traceback": [
      "\u001b[31m---------------------------------------------------------------------------\u001b[39m",
      "\u001b[31mKeyboardInterrupt\u001b[39m                         Traceback (most recent call last)",
      "\u001b[36mCell\u001b[39m\u001b[36m \u001b[39m\u001b[32mIn[39]\u001b[39m\u001b[32m, line 13\u001b[39m\n\u001b[32m     11\u001b[39m \u001b[38;5;28mprint\u001b[39m(\u001b[33m\"\u001b[39m\u001b[33mSimulating CNN features...\u001b[39m\u001b[33m\"\u001b[39m)\n\u001b[32m     12\u001b[39m \u001b[38;5;28mprint\u001b[39m(\u001b[33m\"\u001b[39m\u001b[33m-----------------------\u001b[39m\u001b[33m\"\u001b[39m)\n\u001b[32m---> \u001b[39m\u001b[32m13\u001b[39m cnn_x_axis, cnn_data = \u001b[43msimulation\u001b[49m\u001b[43m(\u001b[49m\n\u001b[32m     14\u001b[39m \u001b[43m    \u001b[49m\u001b[43mmnist_cnn_embedding\u001b[49m\u001b[43m.\u001b[49m\u001b[43mfloat\u001b[49m\u001b[43m(\u001b[49m\u001b[43m)\u001b[49m\u001b[43m,\u001b[49m\n\u001b[32m     15\u001b[39m \u001b[43m    \u001b[49m\u001b[43mlabels\u001b[49m\u001b[43m,\u001b[49m\n\u001b[32m     16\u001b[39m \u001b[43m    \u001b[49m\u001b[43msample_points\u001b[49m\u001b[43m=\u001b[49m\u001b[43mSAMPLE_POINTS\u001b[49m\u001b[43m,\u001b[49m\n\u001b[32m     17\u001b[39m \u001b[43m    \u001b[49m\u001b[43msample_point_step\u001b[49m\u001b[43m=\u001b[49m\u001b[43mSAMPLE_POINT_STEP\u001b[49m\u001b[43m,\u001b[49m\n\u001b[32m     18\u001b[39m \u001b[43m    \u001b[49m\u001b[43mtrials\u001b[49m\u001b[43m=\u001b[49m\u001b[43mTRIALS\u001b[49m\u001b[43m,\u001b[49m\n\u001b[32m     19\u001b[39m \u001b[43m    \u001b[49m\u001b[43mregularize\u001b[49m\u001b[43m=\u001b[49m\u001b[43mREGULARIZER\u001b[49m\n\u001b[32m     20\u001b[39m \u001b[43m)\u001b[49m\n\u001b[32m     21\u001b[39m \u001b[38;5;66;03m# print(\"Simulating RFF features...\")\u001b[39;00m\n\u001b[32m     22\u001b[39m \u001b[38;5;66;03m# print(\"-----------------------\")\u001b[39;00m\n\u001b[32m     23\u001b[39m \u001b[38;5;66;03m# rff_x_axis, rff_data = simulation(\u001b[39;00m\n\u001b[32m   (...)\u001b[39m\u001b[32m     39\u001b[39m \u001b[38;5;66;03m#     regularize=REGULARIZER\u001b[39;00m\n\u001b[32m     40\u001b[39m \u001b[38;5;66;03m# )\u001b[39;00m\n",
      "\u001b[36mCell\u001b[39m\u001b[36m \u001b[39m\u001b[32mIn[37]\u001b[39m\u001b[32m, line 81\u001b[39m, in \u001b[36msimulation\u001b[39m\u001b[34m(M, labels, sample_points, sample_point_step, trials, regularize)\u001b[39m\n\u001b[32m     73\u001b[39m total_p_err_rand_levg, total_err_rand_levg, total_M_pinv_rand_levg = (\n\u001b[32m     74\u001b[39m     torch.tensor(\u001b[32m0.0\u001b[39m, device=DEVICE),\n\u001b[32m     75\u001b[39m     torch.tensor(\u001b[32m0.0\u001b[39m, device=DEVICE),\n\u001b[32m     76\u001b[39m     torch.tensor(\u001b[32m0.0\u001b[39m, device=DEVICE),\n\u001b[32m     77\u001b[39m )\n\u001b[32m     79\u001b[39m \u001b[38;5;28;01mfor\u001b[39;00m _ \u001b[38;5;129;01min\u001b[39;00m \u001b[38;5;28mrange\u001b[39m(trials):\n\u001b[32m     80\u001b[39m     leverage_scores = (\n\u001b[32m---> \u001b[39m\u001b[32m81\u001b[39m         torch.linalg.norm(\u001b[43mtorch\u001b[49m\u001b[43m.\u001b[49m\u001b[43mlinalg\u001b[49m\u001b[43m.\u001b[49m\u001b[43mqr\u001b[49m\u001b[43m(\u001b[49m\u001b[43mM\u001b[49m\u001b[43m,\u001b[49m\u001b[43m \u001b[49m\u001b[43mmode\u001b[49m\u001b[43m=\u001b[49m\u001b[33;43m\"\u001b[39;49m\u001b[33;43mreduced\u001b[39;49m\u001b[33;43m\"\u001b[39;49m\u001b[43m)\u001b[49m.Q, dim=\u001b[32m1\u001b[39m) ** \u001b[32m2\u001b[39m\n\u001b[32m     82\u001b[39m     )\n\u001b[32m     84\u001b[39m     random_indices = torch.randperm(M.shape[\u001b[32m0\u001b[39m], device=device)[:n]\n\u001b[32m     85\u001b[39m     top_leverage_indices = torch.topk(leverage_scores, n, largest=\u001b[38;5;28;01mTrue\u001b[39;00m).indices\n",
      "\u001b[31mKeyboardInterrupt\u001b[39m: "
     ]
    }
   ],
   "source": [
    "labels = torch.nn.functional.one_hot(\n",
    "    mnist_y,\n",
    "    num_classes=10,\n",
    ").to(DEVICE, dtype=torch.float32)\n",
    "\n",
    "SAMPLE_POINTS = 20_000\n",
    "SAMPLE_POINT_STEP = 1000\n",
    "TRIALS = 20\n",
    "REGULARIZER = 1e-10\n",
    "\n",
    "print(\"Simulating CNN features...\")\n",
    "print(\"-----------------------\")\n",
    "cnn_x_axis, cnn_data = simulation(\n",
    "    mnist_cnn_embedding.float(),\n",
    "    labels,\n",
    "    sample_points=SAMPLE_POINTS,\n",
    "    sample_point_step=SAMPLE_POINT_STEP,\n",
    "    trials=TRIALS,\n",
    "    regularize=REGULARIZER,\n",
    ")\n",
    "print(\"Simulating RFF features...\")\n",
    "print(\"-----------------------\")\n",
    "rff_x_axis, rff_data = simulation(\n",
    "    mnist_rff_features.float(),\n",
    "    labels,\n",
    "    sample_points=SAMPLE_POINTS,\n",
    "    sample_point_step=SAMPLE_POINT_STEP,\n",
    "    trials=TRIALS,\n",
    "    regularize=REGULARIZER,\n",
    ")\n",
    "print(\"Simulating ReLU features...\")\n",
    "print(\"-----------------------\")\n",
    "relu_x_axis, relu_data = simulation(\n",
    "    mnist_relu_features.float(),\n",
    "    labels,\n",
    "    sample_points=SAMPLE_POINTS,\n",
    "    sample_point_step=SAMPLE_POINT_STEP,\n",
    "    trials=TRIALS,\n",
    "    regularize=REGULARIZER,\n",
    ")"
   ]
  },
  {
   "cell_type": "code",
   "execution_count": null,
   "id": "abedfd4f",
   "metadata": {
    "colab": {
     "base_uri": "https://localhost:8080/",
     "height": 1000
    },
    "id": "abedfd4f",
    "outputId": "55d111f7-9dbf-4099-cd72-c952a4c3a10e"
   },
   "outputs": [],
   "source": [
    "# Plot results in 4 by 3 grid (4 metrics, 3 datasets)\n",
    "metrics = [\"parameter_error\", \"aliasing_error\", \"norm_M_pinv\"]\n",
    "extra_metrics = [\"Leverage Scores Distribution\"]\n",
    "datasets = {\n",
    "    \"CNN Features\": (cnn_x_axis, cnn_data),\n",
    "    \"RFF Features\": (rff_x_axis, rff_data),\n",
    "    \"ReLU Features\": (relu_x_axis, relu_data),\n",
    "}\n",
    "methods = [\"random\", \"leverage\", \"random_leverage\"]\n",
    "method_labels = {\n",
    "    \"random\": \"Random Sampling\",\n",
    "    \"leverage\": \"Leverage Score Sampling\",\n",
    "    \"random_leverage\": \"Randomized Leverage Score Sampling\",\n",
    "}\n",
    "metric_labels = {\n",
    "    \"parameter_error\": \"Relative Parameter Error\",\n",
    "    \"aliasing_error\": \"Aliasing Operator Norm (fro)\",\n",
    "    \"norm_M_pinv\": \"Frobenius Norm of $M_{TM}^+$\",\n",
    "}\n",
    "method_styles = {\n",
    "    \"random\": \"o--\",\n",
    "    \"leverage\": \"s-.\",\n",
    "    \"random_leverage\": \"^-\",\n",
    "}\n",
    "\n",
    "fig, axes = plt.subplots(\n",
    "    len(metrics) + len(extra_metrics), len(datasets), figsize=(15, 12)\n",
    ")\n",
    "\n",
    "print(cnn_data[\"parameter_error\"][\"random\"])\n",
    "\n",
    "for col, (dataset_name, (x_axis, data)) in enumerate(datasets.items()):\n",
    "    for row, metric in enumerate(metrics):\n",
    "        ax = axes[row, col]\n",
    "        for method in methods:\n",
    "            ax.plot(\n",
    "                x_axis,\n",
    "                [x.cpu().numpy() for x in data[metric][method]],\n",
    "                method_styles[method],\n",
    "                label=method_labels[method],\n",
    "            )\n",
    "        ax.set_title(f\"{dataset_name} - {metric_labels[metric]}\")\n",
    "        ax.set_xlabel(\"Number of Sampled Points\")\n",
    "        ax.set_xscale(\"log\")\n",
    "        ax.set_ylabel(metric_labels[metric])\n",
    "        ax.set_yscale(\"log\")\n",
    "        ax.grid(True)\n",
    "        if row == 0 and col == 0:\n",
    "            ax.legend()\n",
    "\n",
    "    # Plot leverage scores distribution\n",
    "    ax = axes[len(metrics), col]\n",
    "    if dataset_name == \"CNN Features\":\n",
    "        M = mnist_cnn_embedding.float()\n",
    "    elif dataset_name == \"RFF Features\":\n",
    "        M = mnist_rff_features.float()\n",
    "    else:  # ReLU Features\n",
    "        M = mnist_relu_features.float()\n",
    "\n",
    "    leverage_scores = (\n",
    "        (torch.linalg.norm(torch.linalg.qr(M, mode=\"reduced\").Q, dim=1) ** 2)\n",
    "        .cpu()\n",
    "        .numpy()\n",
    "    )\n",
    "    ax.plot(np.sort(leverage_scores)[::-1])\n",
    "    ax.set_title(f\"{dataset_name} - Leverage Scores Distribution\")\n",
    "    ax.set_xlabel(\"Index\")\n",
    "    ax.set_xscale(\"log\")\n",
    "    ax.set_ylabel(\"Leverage Score\")\n",
    "    ax.grid(True)\n",
    "\n",
    "plt.tight_layout()\n",
    "plt.show()"
   ]
  },
  {
   "cell_type": "code",
   "execution_count": null,
   "id": "84da19e2",
   "metadata": {
    "id": "84da19e2"
   },
   "outputs": [],
   "source": [
    "# Plot leverage scores distribution to observe difference from uniform sampling"
   ]
  },
  {
   "cell_type": "markdown",
   "id": "46f2a161",
   "metadata": {
    "id": "46f2a161"
   },
   "source": [
    "## CIFAR-10\n",
    "\n",
    "The CIFAR-10 dataset consists of 60,000 images in color with a resolution of 32x32 pixels, divided into 10 classes (airplane, automobile, bird, cat, deer, dog, frog, horse, ship, truck). This gives us a 60,000 x 32 x 32 x 3 = 60,000 x 3072 data matrix."
   ]
  },
  {
   "cell_type": "code",
   "execution_count": 1,
   "id": "92378599",
   "metadata": {
    "id": "92378599"
   },
   "outputs": [
    {
     "ename": "RuntimeError",
     "evalue": "Error(s) in loading state_dict for CifarConvNet:\n\tsize mismatch for net.0.mean: copying a param with shape torch.Size([32]) from checkpoint, the shape in current model is torch.Size([1, 3, 1, 1]).\n\tsize mismatch for net.0.std: copying a param with shape torch.Size([32]) from checkpoint, the shape in current model is torch.Size([1, 3, 1, 1]).",
     "output_type": "error",
     "traceback": [
      "\u001b[31m---------------------------------------------------------------------------\u001b[39m",
      "\u001b[31mRuntimeError\u001b[39m                              Traceback (most recent call last)",
      "\u001b[36mCell\u001b[39m\u001b[36m \u001b[39m\u001b[32mIn[1]\u001b[39m\u001b[32m, line 13\u001b[39m\n\u001b[32m     10\u001b[39m DEVICE = torch.device(\u001b[33m\"\u001b[39m\u001b[33mcuda\u001b[39m\u001b[33m\"\u001b[39m \u001b[38;5;28;01mif\u001b[39;00m torch.cuda.is_available() \u001b[38;5;28;01melse\u001b[39;00m \u001b[33m\"\u001b[39m\u001b[33mcpu\u001b[39m\u001b[33m\"\u001b[39m)\n\u001b[32m     12\u001b[39m network = CifarConvNet()\n\u001b[32m---> \u001b[39m\u001b[32m13\u001b[39m \u001b[43mnetwork\u001b[49m\u001b[43m.\u001b[49m\u001b[43mload_state_dict\u001b[49m\u001b[43m(\u001b[49m\u001b[43mtorch\u001b[49m\u001b[43m.\u001b[49m\u001b[43mload\u001b[49m\u001b[43m(\u001b[49m\u001b[33;43m\"\u001b[39;49m\u001b[33;43mmodels/cifar_cnn.pth\u001b[39;49m\u001b[33;43m\"\u001b[39;49m\u001b[43m,\u001b[49m\u001b[43m \u001b[49m\u001b[43mmap_location\u001b[49m\u001b[43m=\u001b[49m\u001b[43mDEVICE\u001b[49m\u001b[43m)\u001b[49m\u001b[43m)\u001b[49m\n\u001b[32m     14\u001b[39m network.eval()\n",
      "\u001b[36mFile \u001b[39m\u001b[32m~/Desktop/AliasingOperatorExperiments/.venv/lib/python3.12/site-packages/torch/nn/modules/module.py:2624\u001b[39m, in \u001b[36mModule.load_state_dict\u001b[39m\u001b[34m(self, state_dict, strict, assign)\u001b[39m\n\u001b[32m   2616\u001b[39m         error_msgs.insert(\n\u001b[32m   2617\u001b[39m             \u001b[32m0\u001b[39m,\n\u001b[32m   2618\u001b[39m             \u001b[33m\"\u001b[39m\u001b[33mMissing key(s) in state_dict: \u001b[39m\u001b[38;5;132;01m{}\u001b[39;00m\u001b[33m. \u001b[39m\u001b[33m\"\u001b[39m.format(\n\u001b[32m   2619\u001b[39m                 \u001b[33m\"\u001b[39m\u001b[33m, \u001b[39m\u001b[33m\"\u001b[39m.join(\u001b[33mf\u001b[39m\u001b[33m'\u001b[39m\u001b[33m\"\u001b[39m\u001b[38;5;132;01m{\u001b[39;00mk\u001b[38;5;132;01m}\u001b[39;00m\u001b[33m\"\u001b[39m\u001b[33m'\u001b[39m \u001b[38;5;28;01mfor\u001b[39;00m k \u001b[38;5;129;01min\u001b[39;00m missing_keys)\n\u001b[32m   2620\u001b[39m             ),\n\u001b[32m   2621\u001b[39m         )\n\u001b[32m   2623\u001b[39m \u001b[38;5;28;01mif\u001b[39;00m \u001b[38;5;28mlen\u001b[39m(error_msgs) > \u001b[32m0\u001b[39m:\n\u001b[32m-> \u001b[39m\u001b[32m2624\u001b[39m     \u001b[38;5;28;01mraise\u001b[39;00m \u001b[38;5;167;01mRuntimeError\u001b[39;00m(\n\u001b[32m   2625\u001b[39m         \u001b[33m\"\u001b[39m\u001b[33mError(s) in loading state_dict for \u001b[39m\u001b[38;5;132;01m{}\u001b[39;00m\u001b[33m:\u001b[39m\u001b[38;5;130;01m\\n\u001b[39;00m\u001b[38;5;130;01m\\t\u001b[39;00m\u001b[38;5;132;01m{}\u001b[39;00m\u001b[33m\"\u001b[39m.format(\n\u001b[32m   2626\u001b[39m             \u001b[38;5;28mself\u001b[39m.\u001b[34m__class__\u001b[39m.\u001b[34m__name__\u001b[39m, \u001b[33m\"\u001b[39m\u001b[38;5;130;01m\\n\u001b[39;00m\u001b[38;5;130;01m\\t\u001b[39;00m\u001b[33m\"\u001b[39m.join(error_msgs)\n\u001b[32m   2627\u001b[39m         )\n\u001b[32m   2628\u001b[39m     )\n\u001b[32m   2629\u001b[39m \u001b[38;5;28;01mreturn\u001b[39;00m _IncompatibleKeys(missing_keys, unexpected_keys)\n",
      "\u001b[31mRuntimeError\u001b[39m: Error(s) in loading state_dict for CifarConvNet:\n\tsize mismatch for net.0.mean: copying a param with shape torch.Size([32]) from checkpoint, the shape in current model is torch.Size([1, 3, 1, 1]).\n\tsize mismatch for net.0.std: copying a param with shape torch.Size([32]) from checkpoint, the shape in current model is torch.Size([1, 3, 1, 1])."
     ]
    }
   ],
   "source": [
    "import torch\n",
    "from torchvision.datasets import CIFAR10\n",
    "\n",
    "from models.cifar_cnn import CifarConvNet\n",
    "\n",
    "\n",
    "trainset = CIFAR10(root=\"./data\", train=True, download=True)\n",
    "testset = CIFAR10(root=\"./data\", train=False, download=True)\n",
    "\n",
    "DEVICE = torch.device(\"cuda\" if torch.cuda.is_available() else \"cpu\")\n",
    "\n",
    "network = CifarConvNet()\n",
    "network.load_state_dict(torch.load(\"models/cifar_cnn.pth\", map_location=DEVICE))\n",
    "network.eval()"
   ]
  }
 ],
 "metadata": {
  "accelerator": "GPU",
  "colab": {
   "gpuType": "T4",
   "provenance": []
  },
  "kernelspec": {
   "display_name": "Python 3",
   "name": "python3"
  },
  "language_info": {
   "codemirror_mode": {
    "name": "ipython",
    "version": 3
   },
   "file_extension": ".py",
   "mimetype": "text/x-python",
   "name": "python",
   "nbconvert_exporter": "python",
   "pygments_lexer": "ipython3",
   "version": "3.12.3"
  }
 },
 "nbformat": 4,
 "nbformat_minor": 5
}
